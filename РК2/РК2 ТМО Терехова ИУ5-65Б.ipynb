{
 "cells": [
  {
   "cell_type": "markdown",
   "metadata": {},
   "source": [
    "# Рубежный контроль №2"
   ]
  },
  {
   "cell_type": "markdown",
   "metadata": {},
   "source": [
    "Терехова Вероника, группа ИУ5-65Б"
   ]
  },
  {
   "cell_type": "markdown",
   "metadata": {},
   "source": [
    "| Номер варианта | Метод №1               | Метод №2            | Датасет\n",
    "| -------------- | ---------------------- | --------------------|--------------------\n",
    "| 17             | Метод опорных векторов | Градиентный бустинг | https://www.kaggle.com/mathan/fifa-2018-match-statistics"
   ]
  },
  {
   "cell_type": "markdown",
   "metadata": {},
   "source": [
    "**Задание.** Для заданного набора данных (по Вашему варианту) постройте модели классификации или регрессии (в зависимости от конкретной задачи, рассматриваемой в наборе данных). Для построения моделей используйте методы 1 и 2 (по варианту для Вашей группы). Оцените качество моделей на основе подходящих метрик качества (не менее двух метрик). Какие метрики качества Вы использовали и почему? Какие выводы Вы можете сделать о качестве построенных моделей? Для построения моделей необходимо выполнить требуемую предобработку данных: заполнение пропусков, кодирование категориальных признаков, и т.д."
   ]
  },
  {
   "cell_type": "code",
   "execution_count": 142,
   "metadata": {},
   "outputs": [],
   "source": [
    "# импорт основных библиотек\n",
    "import numpy as np\n",
    "import pandas as pd\n",
    "import seaborn as sns\n",
    "import matplotlib.pyplot as plt"
   ]
  },
  {
   "cell_type": "code",
   "execution_count": 143,
   "metadata": {},
   "outputs": [],
   "source": [
    "# импорт данных\n",
    "data = pd.read_csv('FIFA 2018 Statistics.csv', sep=\",\")"
   ]
  },
  {
   "cell_type": "markdown",
   "metadata": {},
   "source": [
    "Судя по названию, датасет создан для того, чтобы определить \"лучшего игрока матча\". Тогда будем режать задачу классификации: определять значение бинарного поля \"Man of the March\" (принадлежит ли лучший игрок команде) на основе всех остальных столбцов."
   ]
  },
  {
   "cell_type": "markdown",
   "metadata": {},
   "source": [
    "## Анализ датасета"
   ]
  },
  {
   "cell_type": "code",
   "execution_count": 144,
   "metadata": {},
   "outputs": [
    {
     "name": "stdout",
     "output_type": "stream",
     "text": [
      "Столбцов: 128, строк: 27\n"
     ]
    }
   ],
   "source": [
    "print(f\"Столбцов: {data.shape[0]}, строк: {data.shape[1]}\")"
   ]
  },
  {
   "cell_type": "code",
   "execution_count": 145,
   "metadata": {},
   "outputs": [
    {
     "data": {
      "text/plain": [
       "Date                       object\n",
       "Team                       object\n",
       "Opponent                   object\n",
       "Goal Scored                 int64\n",
       "Ball Possession %           int64\n",
       "Attempts                    int64\n",
       "On-Target                   int64\n",
       "Off-Target                  int64\n",
       "Blocked                     int64\n",
       "Corners                     int64\n",
       "Offsides                    int64\n",
       "Free Kicks                  int64\n",
       "Saves                       int64\n",
       "Pass Accuracy %             int64\n",
       "Passes                      int64\n",
       "Distance Covered (Kms)      int64\n",
       "Fouls Committed             int64\n",
       "Yellow Card                 int64\n",
       "Yellow & Red                int64\n",
       "Red                         int64\n",
       "Man of the Match           object\n",
       "1st Goal                  float64\n",
       "Round                      object\n",
       "PSO                        object\n",
       "Goals in PSO                int64\n",
       "Own goals                 float64\n",
       "Own goal Time             float64\n",
       "dtype: object"
      ]
     },
     "execution_count": 145,
     "metadata": {},
     "output_type": "execute_result"
    }
   ],
   "source": [
    "# типы данных столбцов\n",
    "data.dtypes"
   ]
  },
  {
   "cell_type": "code",
   "execution_count": 146,
   "metadata": {},
   "outputs": [
    {
     "data": {
      "text/html": [
       "<div>\n",
       "<style scoped>\n",
       "    .dataframe tbody tr th:only-of-type {\n",
       "        vertical-align: middle;\n",
       "    }\n",
       "\n",
       "    .dataframe tbody tr th {\n",
       "        vertical-align: top;\n",
       "    }\n",
       "\n",
       "    .dataframe thead th {\n",
       "        text-align: right;\n",
       "    }\n",
       "</style>\n",
       "<table border=\"1\" class=\"dataframe\">\n",
       "  <thead>\n",
       "    <tr style=\"text-align: right;\">\n",
       "      <th></th>\n",
       "      <th>Date</th>\n",
       "      <th>Team</th>\n",
       "      <th>Opponent</th>\n",
       "      <th>Goal Scored</th>\n",
       "      <th>Ball Possession %</th>\n",
       "      <th>Attempts</th>\n",
       "      <th>On-Target</th>\n",
       "      <th>Off-Target</th>\n",
       "      <th>Blocked</th>\n",
       "      <th>Corners</th>\n",
       "      <th>...</th>\n",
       "      <th>Yellow Card</th>\n",
       "      <th>Yellow &amp; Red</th>\n",
       "      <th>Red</th>\n",
       "      <th>Man of the Match</th>\n",
       "      <th>1st Goal</th>\n",
       "      <th>Round</th>\n",
       "      <th>PSO</th>\n",
       "      <th>Goals in PSO</th>\n",
       "      <th>Own goals</th>\n",
       "      <th>Own goal Time</th>\n",
       "    </tr>\n",
       "  </thead>\n",
       "  <tbody>\n",
       "    <tr>\n",
       "      <th>0</th>\n",
       "      <td>14-06-2018</td>\n",
       "      <td>Russia</td>\n",
       "      <td>Saudi Arabia</td>\n",
       "      <td>5</td>\n",
       "      <td>40</td>\n",
       "      <td>13</td>\n",
       "      <td>7</td>\n",
       "      <td>3</td>\n",
       "      <td>3</td>\n",
       "      <td>6</td>\n",
       "      <td>...</td>\n",
       "      <td>0</td>\n",
       "      <td>0</td>\n",
       "      <td>0</td>\n",
       "      <td>Yes</td>\n",
       "      <td>12.0</td>\n",
       "      <td>Group Stage</td>\n",
       "      <td>No</td>\n",
       "      <td>0</td>\n",
       "      <td>NaN</td>\n",
       "      <td>NaN</td>\n",
       "    </tr>\n",
       "    <tr>\n",
       "      <th>1</th>\n",
       "      <td>14-06-2018</td>\n",
       "      <td>Saudi Arabia</td>\n",
       "      <td>Russia</td>\n",
       "      <td>0</td>\n",
       "      <td>60</td>\n",
       "      <td>6</td>\n",
       "      <td>0</td>\n",
       "      <td>3</td>\n",
       "      <td>3</td>\n",
       "      <td>2</td>\n",
       "      <td>...</td>\n",
       "      <td>0</td>\n",
       "      <td>0</td>\n",
       "      <td>0</td>\n",
       "      <td>No</td>\n",
       "      <td>NaN</td>\n",
       "      <td>Group Stage</td>\n",
       "      <td>No</td>\n",
       "      <td>0</td>\n",
       "      <td>NaN</td>\n",
       "      <td>NaN</td>\n",
       "    </tr>\n",
       "    <tr>\n",
       "      <th>2</th>\n",
       "      <td>15-06-2018</td>\n",
       "      <td>Egypt</td>\n",
       "      <td>Uruguay</td>\n",
       "      <td>0</td>\n",
       "      <td>43</td>\n",
       "      <td>8</td>\n",
       "      <td>3</td>\n",
       "      <td>3</td>\n",
       "      <td>2</td>\n",
       "      <td>0</td>\n",
       "      <td>...</td>\n",
       "      <td>2</td>\n",
       "      <td>0</td>\n",
       "      <td>0</td>\n",
       "      <td>No</td>\n",
       "      <td>NaN</td>\n",
       "      <td>Group Stage</td>\n",
       "      <td>No</td>\n",
       "      <td>0</td>\n",
       "      <td>NaN</td>\n",
       "      <td>NaN</td>\n",
       "    </tr>\n",
       "    <tr>\n",
       "      <th>3</th>\n",
       "      <td>15-06-2018</td>\n",
       "      <td>Uruguay</td>\n",
       "      <td>Egypt</td>\n",
       "      <td>1</td>\n",
       "      <td>57</td>\n",
       "      <td>14</td>\n",
       "      <td>4</td>\n",
       "      <td>6</td>\n",
       "      <td>4</td>\n",
       "      <td>5</td>\n",
       "      <td>...</td>\n",
       "      <td>0</td>\n",
       "      <td>0</td>\n",
       "      <td>0</td>\n",
       "      <td>Yes</td>\n",
       "      <td>89.0</td>\n",
       "      <td>Group Stage</td>\n",
       "      <td>No</td>\n",
       "      <td>0</td>\n",
       "      <td>NaN</td>\n",
       "      <td>NaN</td>\n",
       "    </tr>\n",
       "    <tr>\n",
       "      <th>4</th>\n",
       "      <td>15-06-2018</td>\n",
       "      <td>Morocco</td>\n",
       "      <td>Iran</td>\n",
       "      <td>0</td>\n",
       "      <td>64</td>\n",
       "      <td>13</td>\n",
       "      <td>3</td>\n",
       "      <td>6</td>\n",
       "      <td>4</td>\n",
       "      <td>5</td>\n",
       "      <td>...</td>\n",
       "      <td>1</td>\n",
       "      <td>0</td>\n",
       "      <td>0</td>\n",
       "      <td>No</td>\n",
       "      <td>NaN</td>\n",
       "      <td>Group Stage</td>\n",
       "      <td>No</td>\n",
       "      <td>0</td>\n",
       "      <td>1.0</td>\n",
       "      <td>90.0</td>\n",
       "    </tr>\n",
       "  </tbody>\n",
       "</table>\n",
       "<p>5 rows × 27 columns</p>\n",
       "</div>"
      ],
      "text/plain": [
       "         Date          Team      Opponent  Goal Scored  Ball Possession %  \\\n",
       "0  14-06-2018        Russia  Saudi Arabia            5                 40   \n",
       "1  14-06-2018  Saudi Arabia        Russia            0                 60   \n",
       "2  15-06-2018         Egypt       Uruguay            0                 43   \n",
       "3  15-06-2018       Uruguay         Egypt            1                 57   \n",
       "4  15-06-2018       Morocco          Iran            0                 64   \n",
       "\n",
       "   Attempts  On-Target  Off-Target  Blocked  Corners  ...  Yellow Card  \\\n",
       "0        13          7           3        3        6  ...            0   \n",
       "1         6          0           3        3        2  ...            0   \n",
       "2         8          3           3        2        0  ...            2   \n",
       "3        14          4           6        4        5  ...            0   \n",
       "4        13          3           6        4        5  ...            1   \n",
       "\n",
       "   Yellow & Red  Red  Man of the Match  1st Goal        Round  PSO  \\\n",
       "0             0    0               Yes      12.0  Group Stage   No   \n",
       "1             0    0                No       NaN  Group Stage   No   \n",
       "2             0    0                No       NaN  Group Stage   No   \n",
       "3             0    0               Yes      89.0  Group Stage   No   \n",
       "4             0    0                No       NaN  Group Stage   No   \n",
       "\n",
       "   Goals in PSO  Own goals  Own goal Time  \n",
       "0             0        NaN            NaN  \n",
       "1             0        NaN            NaN  \n",
       "2             0        NaN            NaN  \n",
       "3             0        NaN            NaN  \n",
       "4             0        1.0           90.0  \n",
       "\n",
       "[5 rows x 27 columns]"
      ]
     },
     "execution_count": 146,
     "metadata": {},
     "output_type": "execute_result"
    }
   ],
   "source": [
    "# первые 5 строк\n",
    "data.head(5)"
   ]
  },
  {
   "cell_type": "markdown",
   "metadata": {},
   "source": [
    "## Предобработка данных"
   ]
  },
  {
   "cell_type": "code",
   "execution_count": 147,
   "metadata": {},
   "outputs": [],
   "source": [
    "# удаление дубликатов\n",
    "data = data.drop_duplicates()"
   ]
  },
  {
   "cell_type": "code",
   "execution_count": 148,
   "metadata": {},
   "outputs": [
    {
     "data": {
      "text/plain": [
       "(128, 27)"
      ]
     },
     "execution_count": 148,
     "metadata": {},
     "output_type": "execute_result"
    }
   ],
   "source": [
    "data.shape"
   ]
  },
  {
   "cell_type": "markdown",
   "metadata": {},
   "source": [
    "(дубликатов не было)"
   ]
  },
  {
   "cell_type": "code",
   "execution_count": 149,
   "metadata": {},
   "outputs": [
    {
     "data": {
      "text/plain": [
       "Date                        0\n",
       "Team                        0\n",
       "Opponent                    0\n",
       "Goal Scored                 0\n",
       "Ball Possession %           0\n",
       "Attempts                    0\n",
       "On-Target                   0\n",
       "Off-Target                  0\n",
       "Blocked                     0\n",
       "Corners                     0\n",
       "Offsides                    0\n",
       "Free Kicks                  0\n",
       "Saves                       0\n",
       "Pass Accuracy %             0\n",
       "Passes                      0\n",
       "Distance Covered (Kms)      0\n",
       "Fouls Committed             0\n",
       "Yellow Card                 0\n",
       "Yellow & Red                0\n",
       "Red                         0\n",
       "Man of the Match            0\n",
       "1st Goal                   34\n",
       "Round                       0\n",
       "PSO                         0\n",
       "Goals in PSO                0\n",
       "Own goals                 116\n",
       "Own goal Time             116\n",
       "dtype: int64"
      ]
     },
     "execution_count": 149,
     "metadata": {},
     "output_type": "execute_result"
    }
   ],
   "source": [
    "# проверка на наличие пропусков\n",
    "data.isnull().sum()"
   ]
  },
  {
   "cell_type": "markdown",
   "metadata": {},
   "source": [
    "В столбце \"1st Goal\" интерпретируем пропуски как отсутствие голов в игре. <br>\n",
    "В столбце \"Own Goals\" пропуск значит отсутствие автоголов. Так же и в столбце \"Own goal Time\". <br>\n",
    "Поэтому в столбце с количеством голов можно заменить пропуски на 0.<br>\n",
    "В остальных двух столбцах с пропусками так сделать нельзя, т.к. в них содержится время (гол на 0 минуте не то же самое, что отсутствие гола). Замена пропуска отрицательное или нечисловое значение затруднит обработку данных. Поэтому удалим их полностью."
   ]
  },
  {
   "cell_type": "code",
   "execution_count": 150,
   "metadata": {},
   "outputs": [
    {
     "data": {
      "text/html": [
       "<div>\n",
       "<style scoped>\n",
       "    .dataframe tbody tr th:only-of-type {\n",
       "        vertical-align: middle;\n",
       "    }\n",
       "\n",
       "    .dataframe tbody tr th {\n",
       "        vertical-align: top;\n",
       "    }\n",
       "\n",
       "    .dataframe thead th {\n",
       "        text-align: right;\n",
       "    }\n",
       "</style>\n",
       "<table border=\"1\" class=\"dataframe\">\n",
       "  <thead>\n",
       "    <tr style=\"text-align: right;\">\n",
       "      <th></th>\n",
       "      <th>Date</th>\n",
       "      <th>Team</th>\n",
       "      <th>Opponent</th>\n",
       "      <th>Goal Scored</th>\n",
       "      <th>Ball Possession %</th>\n",
       "      <th>Attempts</th>\n",
       "      <th>On-Target</th>\n",
       "      <th>Off-Target</th>\n",
       "      <th>Blocked</th>\n",
       "      <th>Corners</th>\n",
       "      <th>...</th>\n",
       "      <th>Distance Covered (Kms)</th>\n",
       "      <th>Fouls Committed</th>\n",
       "      <th>Yellow Card</th>\n",
       "      <th>Yellow &amp; Red</th>\n",
       "      <th>Red</th>\n",
       "      <th>Man of the Match</th>\n",
       "      <th>Round</th>\n",
       "      <th>PSO</th>\n",
       "      <th>Goals in PSO</th>\n",
       "      <th>Own goals</th>\n",
       "    </tr>\n",
       "  </thead>\n",
       "  <tbody>\n",
       "    <tr>\n",
       "      <th>0</th>\n",
       "      <td>14-06-2018</td>\n",
       "      <td>Russia</td>\n",
       "      <td>Saudi Arabia</td>\n",
       "      <td>5</td>\n",
       "      <td>40</td>\n",
       "      <td>13</td>\n",
       "      <td>7</td>\n",
       "      <td>3</td>\n",
       "      <td>3</td>\n",
       "      <td>6</td>\n",
       "      <td>...</td>\n",
       "      <td>118</td>\n",
       "      <td>22</td>\n",
       "      <td>0</td>\n",
       "      <td>0</td>\n",
       "      <td>0</td>\n",
       "      <td>Yes</td>\n",
       "      <td>Group Stage</td>\n",
       "      <td>No</td>\n",
       "      <td>0</td>\n",
       "      <td>0.0</td>\n",
       "    </tr>\n",
       "    <tr>\n",
       "      <th>1</th>\n",
       "      <td>14-06-2018</td>\n",
       "      <td>Saudi Arabia</td>\n",
       "      <td>Russia</td>\n",
       "      <td>0</td>\n",
       "      <td>60</td>\n",
       "      <td>6</td>\n",
       "      <td>0</td>\n",
       "      <td>3</td>\n",
       "      <td>3</td>\n",
       "      <td>2</td>\n",
       "      <td>...</td>\n",
       "      <td>105</td>\n",
       "      <td>10</td>\n",
       "      <td>0</td>\n",
       "      <td>0</td>\n",
       "      <td>0</td>\n",
       "      <td>No</td>\n",
       "      <td>Group Stage</td>\n",
       "      <td>No</td>\n",
       "      <td>0</td>\n",
       "      <td>0.0</td>\n",
       "    </tr>\n",
       "    <tr>\n",
       "      <th>2</th>\n",
       "      <td>15-06-2018</td>\n",
       "      <td>Egypt</td>\n",
       "      <td>Uruguay</td>\n",
       "      <td>0</td>\n",
       "      <td>43</td>\n",
       "      <td>8</td>\n",
       "      <td>3</td>\n",
       "      <td>3</td>\n",
       "      <td>2</td>\n",
       "      <td>0</td>\n",
       "      <td>...</td>\n",
       "      <td>112</td>\n",
       "      <td>12</td>\n",
       "      <td>2</td>\n",
       "      <td>0</td>\n",
       "      <td>0</td>\n",
       "      <td>No</td>\n",
       "      <td>Group Stage</td>\n",
       "      <td>No</td>\n",
       "      <td>0</td>\n",
       "      <td>0.0</td>\n",
       "    </tr>\n",
       "    <tr>\n",
       "      <th>3</th>\n",
       "      <td>15-06-2018</td>\n",
       "      <td>Uruguay</td>\n",
       "      <td>Egypt</td>\n",
       "      <td>1</td>\n",
       "      <td>57</td>\n",
       "      <td>14</td>\n",
       "      <td>4</td>\n",
       "      <td>6</td>\n",
       "      <td>4</td>\n",
       "      <td>5</td>\n",
       "      <td>...</td>\n",
       "      <td>111</td>\n",
       "      <td>6</td>\n",
       "      <td>0</td>\n",
       "      <td>0</td>\n",
       "      <td>0</td>\n",
       "      <td>Yes</td>\n",
       "      <td>Group Stage</td>\n",
       "      <td>No</td>\n",
       "      <td>0</td>\n",
       "      <td>0.0</td>\n",
       "    </tr>\n",
       "    <tr>\n",
       "      <th>4</th>\n",
       "      <td>15-06-2018</td>\n",
       "      <td>Morocco</td>\n",
       "      <td>Iran</td>\n",
       "      <td>0</td>\n",
       "      <td>64</td>\n",
       "      <td>13</td>\n",
       "      <td>3</td>\n",
       "      <td>6</td>\n",
       "      <td>4</td>\n",
       "      <td>5</td>\n",
       "      <td>...</td>\n",
       "      <td>101</td>\n",
       "      <td>22</td>\n",
       "      <td>1</td>\n",
       "      <td>0</td>\n",
       "      <td>0</td>\n",
       "      <td>No</td>\n",
       "      <td>Group Stage</td>\n",
       "      <td>No</td>\n",
       "      <td>0</td>\n",
       "      <td>1.0</td>\n",
       "    </tr>\n",
       "  </tbody>\n",
       "</table>\n",
       "<p>5 rows × 25 columns</p>\n",
       "</div>"
      ],
      "text/plain": [
       "         Date          Team      Opponent  Goal Scored  Ball Possession %  \\\n",
       "0  14-06-2018        Russia  Saudi Arabia            5                 40   \n",
       "1  14-06-2018  Saudi Arabia        Russia            0                 60   \n",
       "2  15-06-2018         Egypt       Uruguay            0                 43   \n",
       "3  15-06-2018       Uruguay         Egypt            1                 57   \n",
       "4  15-06-2018       Morocco          Iran            0                 64   \n",
       "\n",
       "   Attempts  On-Target  Off-Target  Blocked  Corners  ...  \\\n",
       "0        13          7           3        3        6  ...   \n",
       "1         6          0           3        3        2  ...   \n",
       "2         8          3           3        2        0  ...   \n",
       "3        14          4           6        4        5  ...   \n",
       "4        13          3           6        4        5  ...   \n",
       "\n",
       "   Distance Covered (Kms)  Fouls Committed  Yellow Card  Yellow & Red  Red  \\\n",
       "0                     118               22            0             0    0   \n",
       "1                     105               10            0             0    0   \n",
       "2                     112               12            2             0    0   \n",
       "3                     111                6            0             0    0   \n",
       "4                     101               22            1             0    0   \n",
       "\n",
       "   Man of the Match        Round  PSO  Goals in PSO  Own goals  \n",
       "0               Yes  Group Stage   No             0        0.0  \n",
       "1                No  Group Stage   No             0        0.0  \n",
       "2                No  Group Stage   No             0        0.0  \n",
       "3               Yes  Group Stage   No             0        0.0  \n",
       "4                No  Group Stage   No             0        1.0  \n",
       "\n",
       "[5 rows x 25 columns]"
      ]
     },
     "execution_count": 150,
     "metadata": {},
     "output_type": "execute_result"
    }
   ],
   "source": [
    "data = data.drop([\"1st Goal\", \"Own goal Time\"], axis=1).fillna(0)\n",
    "data.head(5)"
   ]
  },
  {
   "cell_type": "code",
   "execution_count": 151,
   "metadata": {},
   "outputs": [
    {
     "name": "stdout",
     "output_type": "stream",
     "text": [
      "Пропусков: 0\n"
     ]
    }
   ],
   "source": [
    "print(f\"Пропусков: {data.isnull().sum().sum()}\")"
   ]
  },
  {
   "cell_type": "markdown",
   "metadata": {},
   "source": [
    "Также откорректируем типы полей, которые заданы строками."
   ]
  },
  {
   "cell_type": "code",
   "execution_count": 152,
   "metadata": {},
   "outputs": [
    {
     "name": "stderr",
     "output_type": "stream",
     "text": [
      "C:\\Users\\veronika\\AppData\\Local\\Temp\\ipykernel_19036\\1040627372.py:2: FutureWarning: Downcasting behavior in `replace` is deprecated and will be removed in a future version. To retain the old behavior, explicitly call `result.infer_objects(copy=False)`. To opt-in to the future behavior, set `pd.set_option('future.no_silent_downcasting', True)`\n",
      "  data[\"Man of the Match\"] = data[\"Man of the Match\"].replace(\"Yes\", 1).replace(\"No\", 0)\n",
      "C:\\Users\\veronika\\AppData\\Local\\Temp\\ipykernel_19036\\1040627372.py:5: FutureWarning: Downcasting behavior in `replace` is deprecated and will be removed in a future version. To retain the old behavior, explicitly call `result.infer_objects(copy=False)`. To opt-in to the future behavior, set `pd.set_option('future.no_silent_downcasting', True)`\n",
      "  data[\"PSO\"] = data[\"PSO\"].replace(\"Yes\", 1).replace(\"No\", 0)\n"
     ]
    }
   ],
   "source": [
    "# перевод поля Man of Match в int\n",
    "data[\"Man of the Match\"] = data[\"Man of the Match\"].replace(\"Yes\", 1).replace(\"No\", 0)\n",
    "\n",
    "# перевод поля PSO в int\n",
    "data[\"PSO\"] = data[\"PSO\"].replace(\"Yes\", 1).replace(\"No\", 0)"
   ]
  },
  {
   "cell_type": "code",
   "execution_count": 153,
   "metadata": {},
   "outputs": [],
   "source": [
    "from sklearn.preprocessing import LabelEncoder"
   ]
  },
  {
   "cell_type": "code",
   "execution_count": 154,
   "metadata": {},
   "outputs": [],
   "source": [
    "le = LabelEncoder()\n",
    "data[\"Team_le\"] = le.fit_transform(data[\"Team\"])\n",
    "data[\"Opponent_le\"] = le.fit_transform(data[\"Opponent\"])\n",
    "data[\"Round_le\"] = le.fit_transform(data[\"Round\"])"
   ]
  },
  {
   "cell_type": "code",
   "execution_count": 155,
   "metadata": {},
   "outputs": [
    {
     "data": {
      "text/plain": [
       "Date                       object\n",
       "Team                       object\n",
       "Opponent                   object\n",
       "Goal Scored                 int64\n",
       "Ball Possession %           int64\n",
       "Attempts                    int64\n",
       "On-Target                   int64\n",
       "Off-Target                  int64\n",
       "Blocked                     int64\n",
       "Corners                     int64\n",
       "Offsides                    int64\n",
       "Free Kicks                  int64\n",
       "Saves                       int64\n",
       "Pass Accuracy %             int64\n",
       "Passes                      int64\n",
       "Distance Covered (Kms)      int64\n",
       "Fouls Committed             int64\n",
       "Yellow Card                 int64\n",
       "Yellow & Red                int64\n",
       "Red                         int64\n",
       "Man of the Match            int64\n",
       "Round                      object\n",
       "PSO                         int64\n",
       "Goals in PSO                int64\n",
       "Own goals                 float64\n",
       "Team_le                     int32\n",
       "Opponent_le                 int32\n",
       "Round_le                    int32\n",
       "dtype: object"
      ]
     },
     "execution_count": 155,
     "metadata": {},
     "output_type": "execute_result"
    }
   ],
   "source": [
    "data.dtypes"
   ]
  },
  {
   "cell_type": "code",
   "execution_count": 156,
   "metadata": {},
   "outputs": [
    {
     "data": {
      "text/plain": [
       "{0: 'Russia',\n",
       " 1: 'Saudi Arabia',\n",
       " 2: 'Egypt',\n",
       " 3: 'Uruguay',\n",
       " 4: 'Morocco',\n",
       " 5: 'Iran',\n",
       " 6: 'Portugal',\n",
       " 7: 'Spain',\n",
       " 8: 'France',\n",
       " 9: 'Australia',\n",
       " 10: 'Argentina',\n",
       " 11: 'Iceland',\n",
       " 12: 'Peru',\n",
       " 13: 'Denmark',\n",
       " 14: 'Croatia',\n",
       " 15: 'Nigeria',\n",
       " 16: 'Costa Rica',\n",
       " 17: 'Serbia',\n",
       " 18: 'Germany',\n",
       " 19: 'Mexico',\n",
       " 20: 'Brazil',\n",
       " 21: 'Switzerland',\n",
       " 22: 'Sweden',\n",
       " 23: 'Korea Republic',\n",
       " 24: 'Belgium',\n",
       " 25: 'Panama',\n",
       " 26: 'Tunisia',\n",
       " 27: 'England',\n",
       " 28: 'Colombia',\n",
       " 29: 'Japan',\n",
       " 30: 'Poland',\n",
       " 31: 'Senegal'}"
      ]
     },
     "execution_count": 156,
     "metadata": {},
     "output_type": "execute_result"
    }
   ],
   "source": [
    "dict(zip(np.unique(data[\"Team_le\"]), data[\"Team\"]))"
   ]
  },
  {
   "cell_type": "code",
   "execution_count": 157,
   "metadata": {},
   "outputs": [
    {
     "data": {
      "text/plain": [
       "{0: 'Saudi Arabia',\n",
       " 1: 'Russia',\n",
       " 2: 'Uruguay',\n",
       " 3: 'Egypt',\n",
       " 4: 'Iran',\n",
       " 5: 'Morocco',\n",
       " 6: 'Spain',\n",
       " 7: 'Portugal',\n",
       " 8: 'Australia',\n",
       " 9: 'France',\n",
       " 10: 'Iceland',\n",
       " 11: 'Argentina',\n",
       " 12: 'Denmark',\n",
       " 13: 'Peru',\n",
       " 14: 'Nigeria',\n",
       " 15: 'Croatia',\n",
       " 16: 'Serbia',\n",
       " 17: 'Costa Rica',\n",
       " 18: 'Mexico',\n",
       " 19: 'Germany',\n",
       " 20: 'Switzerland',\n",
       " 21: 'Brazil',\n",
       " 22: 'Korea Republic',\n",
       " 23: 'Sweden',\n",
       " 24: 'Panama',\n",
       " 25: 'Belgium',\n",
       " 26: 'England',\n",
       " 27: 'Tunisia',\n",
       " 28: 'Japan',\n",
       " 29: 'Colombia',\n",
       " 30: 'Senegal',\n",
       " 31: 'Poland'}"
      ]
     },
     "execution_count": 157,
     "metadata": {},
     "output_type": "execute_result"
    }
   ],
   "source": [
    "dict(zip(np.unique(data[\"Opponent_le\"]), data[\"Opponent\"]))"
   ]
  },
  {
   "cell_type": "code",
   "execution_count": 158,
   "metadata": {},
   "outputs": [
    {
     "data": {
      "text/plain": [
       "{0: 'Group Stage',\n",
       " 1: 'Round of 16',\n",
       " 2: 'Quarter Finals',\n",
       " 3: 'Semi- Finals',\n",
       " 4: '3rd Place',\n",
       " 5: 'Final'}"
      ]
     },
     "execution_count": 158,
     "metadata": {},
     "output_type": "execute_result"
    }
   ],
   "source": [
    "dict(zip(np.unique(data[\"Round_le\"]), data[\"Round\"].unique()))"
   ]
  },
  {
   "cell_type": "markdown",
   "metadata": {},
   "source": [
    "## Решение задачи классификации"
   ]
  },
  {
   "cell_type": "markdown",
   "metadata": {},
   "source": [
    "### Выборки для обучения и тестирования"
   ]
  },
  {
   "cell_type": "code",
   "execution_count": 159,
   "metadata": {},
   "outputs": [],
   "source": [
    "from sklearn.model_selection import train_test_split"
   ]
  },
  {
   "cell_type": "code",
   "execution_count": 160,
   "metadata": {},
   "outputs": [],
   "source": [
    "# поле Date содержит только одно значение, не учитываем для решения задачи\n"
   ]
  },
  {
   "cell_type": "code",
   "execution_count": 161,
   "metadata": {},
   "outputs": [],
   "source": [
    "# исключаем необработанные строковые поля\n",
    "x_train, x_test, y_train, y_test = train_test_split(\n",
    "    data.drop([\"Date\", \"Team\", \"Opponent\", \"Round\", \"Man of the Match\"], axis=1),\n",
    "      data[\"Man of the Match\"], test_size=0.2, random_state=1)"
   ]
  },
  {
   "cell_type": "code",
   "execution_count": 162,
   "metadata": {},
   "outputs": [],
   "source": [
    "score = {}"
   ]
  },
  {
   "cell_type": "code",
   "execution_count": 163,
   "metadata": {},
   "outputs": [],
   "source": [
    "def make_meshgrid(x, y, h=.02):\n",
    "    \"\"\"Create a mesh of points to plot in\n",
    "\n",
    "    Parameters\n",
    "    ----------\n",
    "    x: data to base x-axis meshgrid on\n",
    "    y: data to base y-axis meshgrid on\n",
    "    h: stepsize for meshgrid, optional\n",
    "\n",
    "    Returns\n",
    "    -------\n",
    "    xx, yy : ndarray\n",
    "    \"\"\"\n",
    "    x_min, x_max = x.min() - 1, x.max() + 1\n",
    "    y_min, y_max = y.min() - 1, y.max() + 1\n",
    "    xx, yy = np.meshgrid(np.arange(x_min, x_max, h),\n",
    "                         np.arange(y_min, y_max, h))\n",
    "    return xx, yy\n"
   ]
  },
  {
   "cell_type": "code",
   "execution_count": 164,
   "metadata": {},
   "outputs": [],
   "source": [
    "def plot_contours(ax, clf, xx, yy, **params):\n",
    "    \"\"\"Plot the decision boundaries for a classifier.\n",
    "\n",
    "    Parameters\n",
    "    ----------\n",
    "    ax: matplotlib axes object\n",
    "    clf: a classifier\n",
    "    xx: meshgrid ndarray\n",
    "    yy: meshgrid ndarray\n",
    "    params: dictionary of params to pass to contourf, optional\n",
    "    \"\"\"\n",
    "    Z = clf.predict(np.c_[xx.ravel(), yy.ravel()])\n",
    "    Z = Z.reshape(xx.shape)\n",
    "    #Можно проверить все ли метки классов предсказываются\n",
    "    #print(np.unique(Z))\n",
    "    out = ax.contourf(xx, yy, Z, **params)\n",
    "    return out"
   ]
  },
  {
   "cell_type": "code",
   "execution_count": 165,
   "metadata": {},
   "outputs": [],
   "source": [
    "def plot_cl(clf):\n",
    "    title = clf.__repr__\n",
    "    clf.fit(x_train.iloc[:, 0:2], y_train)\n",
    "    fig, ax = plt.subplots(figsize=(5,5))\n",
    "    X0, X1 = x_train.iloc[:, 0], x_train.iloc[:, 1]\n",
    "    xx, yy = make_meshgrid(X0, X1)\n",
    "    plot_contours(ax, clf, xx, yy, cmap=plt.cm.coolwarm, alpha=0.8)\n",
    "    ax.scatter(X0, X1, c=y_train, cmap=plt.cm.coolwarm, s=20, edgecolors='k')\n",
    "    ax.set_xlim(xx.min(), xx.max())\n",
    "    ax.set_ylim(yy.min(), yy.max())\n",
    "    ax.set_xticks(())\n",
    "    ax.set_yticks(())\n",
    "    ax.set_title(title)\n",
    "    plt.show()"
   ]
  },
  {
   "cell_type": "markdown",
   "metadata": {},
   "source": [
    "### Метод опорных векторов"
   ]
  },
  {
   "cell_type": "code",
   "execution_count": 166,
   "metadata": {},
   "outputs": [],
   "source": [
    "from sklearn.svm import SVC\n",
    "from sklearn.model_selection import RandomizedSearchCV\n",
    "from sklearn.metrics import precision_score, recall_score, f1_score, roc_auc_score"
   ]
  },
  {
   "cell_type": "code",
   "execution_count": 167,
   "metadata": {},
   "outputs": [
    {
     "data": {
      "text/plain": [
       "(SVC(C=1.3, gamma=1.6, kernel='linear'),\n",
       " {'kernel': 'linear', 'gamma': 1.6, 'C': 1.3},\n",
       " 0.6766666666666667)"
      ]
     },
     "execution_count": 167,
     "metadata": {},
     "output_type": "execute_result"
    }
   ],
   "source": [
    "# Подбор гиперпараметров\n",
    "# Для выбора используем метрику ROC AUC как хорошо сбалансированную и информативную\n",
    "svc_rs = RandomizedSearchCV(SVC(), [{'C': list(map(lambda x: x / 10, range(1, 50, 1))), \n",
    "                                     \"gamma\": list(map(lambda x: x / 10, range(1, 50, 1))),\n",
    "                                     \"kernel\": ['linear', 'poly', 'rbf']}],\n",
    "                             cv=5)\n",
    "svc_rs.fit(x_train, y_train)\n",
    "svc_rs.best_estimator_, svc_rs.best_params_, svc_rs.best_score_"
   ]
  },
  {
   "cell_type": "code",
   "execution_count": 168,
   "metadata": {},
   "outputs": [],
   "source": [
    "svc = svc_rs.best_estimator_\n",
    "\n",
    "svc.fit(x_train, y_train)\n",
    "y_pred = svc.predict(x_test)\n",
    "score[\"Метод опорных векторов\"] = {\"precision\": precision_score(y_test, y_pred),\n",
    "                                   \"recall\": recall_score(y_test, y_pred),\n",
    "                                    \"f1\": f1_score(y_test, y_pred),\n",
    "                                    \"roc_auc\": roc_auc_score(y_test, y_pred)}"
   ]
  },
  {
   "cell_type": "code",
   "execution_count": 169,
   "metadata": {},
   "outputs": [
    {
     "name": "stderr",
     "output_type": "stream",
     "text": [
      "c:\\Python312\\Lib\\site-packages\\sklearn\\base.py:493: UserWarning: X does not have valid feature names, but SVC was fitted with feature names\n",
      "  warnings.warn(\n"
     ]
    },
    {
     "data": {
      "image/png": "[encoded data removed]",
      "text/plain": [
       "<Figure size 500x500 with 1 Axes>"
      ]
     },
     "metadata": {},
     "output_type": "display_data"
    }
   ],
   "source": [
    "plot_cl(svc)"
   ]
  },
  {
   "cell_type": "markdown",
   "metadata": {},
   "source": [
    "### Градиентный бустинг"
   ]
  },
  {
   "cell_type": "code",
   "execution_count": 170,
   "metadata": {},
   "outputs": [],
   "source": [
    "from sklearn.ensemble import GradientBoostingClassifier"
   ]
  },
  {
   "cell_type": "code",
   "execution_count": 171,
   "metadata": {},
   "outputs": [
    {
     "data": {
      "text/plain": [
       "(GradientBoostingClassifier(learning_rate=2.9, n_estimators=108),\n",
       " {'n_estimators': 108, 'learning_rate': 2.9},\n",
       " 0.6561904761904762)"
      ]
     },
     "execution_count": 171,
     "metadata": {},
     "output_type": "execute_result"
    }
   ],
   "source": [
    "# Подбор гиперпараметров\n",
    "gbc_rs = RandomizedSearchCV(GradientBoostingClassifier(),\n",
    "                             [{'learning_rate': list(map(lambda x: x / 10, range(1, 100, 1))), \n",
    "                                \"n_estimators\": range(1, 200, 1)}],\n",
    "                             cv=5)\n",
    "gbc_rs.fit(x_train, y_train)\n",
    "gbc_rs.best_estimator_, gbc_rs.best_params_, gbc_rs.best_score_"
   ]
  },
  {
   "cell_type": "code",
   "execution_count": 172,
   "metadata": {},
   "outputs": [],
   "source": [
    "gbs = gbc_rs.best_estimator_\n",
    "\n",
    "gbs.fit(x_train, y_train)\n",
    "y_pred = gbs.predict(x_test)\n",
    "score[\"Градиентный бустинг\"] = {\"precision\": precision_score(y_test, y_pred),\n",
    "                                \"recall\": recall_score(y_test, y_pred),\n",
    "                                \"f1\": f1_score(y_test, y_pred),\n",
    "                                \"roc_auc\": roc_auc_score(y_test, y_pred)}"
   ]
  },
  {
   "cell_type": "code",
   "execution_count": 175,
   "metadata": {},
   "outputs": [
    {
     "name": "stderr",
     "output_type": "stream",
     "text": [
      "c:\\Python312\\Lib\\site-packages\\sklearn\\base.py:493: UserWarning: X does not have valid feature names, but GradientBoostingClassifier was fitted with feature names\n",
      "  warnings.warn(\n"
     ]
    },
    {
     "data": {
      "image/png": "[encoded data removed]",
      "text/plain": [
       "<Figure size 500x500 with 1 Axes>"
      ]
     },
     "metadata": {},
     "output_type": "display_data"
    }
   ],
   "source": [
    "plot_cl(gbs)"
   ]
  },
  {
   "cell_type": "markdown",
   "metadata": {},
   "source": [
    "### Сравнение моделей"
   ]
  },
  {
   "cell_type": "markdown",
   "metadata": {},
   "source": [
    "Для анализа моделей используем как простые метрики precision, recall и более информативные f1 и roc_auc. Для их использования данные должны быть сбалансированны."
   ]
  },
  {
   "cell_type": "code",
   "execution_count": 173,
   "metadata": {},
   "outputs": [
    {
     "data": {
      "text/plain": [
       "[Man of the Match\n",
       " 1    0.5\n",
       " 0    0.5\n",
       " Name: proportion, dtype: float64,\n",
       " Man of the Match\n",
       " 1    64\n",
       " 0    64\n",
       " Name: count, dtype: int64]"
      ]
     },
     "execution_count": 173,
     "metadata": {},
     "output_type": "execute_result"
    }
   ],
   "source": [
    "[data[\"Man of the Match\"].value_counts(i) for i in data[\"Man of the Match\"].unique()]"
   ]
  },
  {
   "cell_type": "markdown",
   "metadata": {},
   "source": [
    "Данные хорошо сбалансированы."
   ]
  },
  {
   "cell_type": "code",
   "execution_count": 174,
   "metadata": {},
   "outputs": [
    {
     "data": {
      "text/html": [
       "<div>\n",
       "<style scoped>\n",
       "    .dataframe tbody tr th:only-of-type {\n",
       "        vertical-align: middle;\n",
       "    }\n",
       "\n",
       "    .dataframe tbody tr th {\n",
       "        vertical-align: top;\n",
       "    }\n",
       "\n",
       "    .dataframe thead th {\n",
       "        text-align: right;\n",
       "    }\n",
       "</style>\n",
       "<table border=\"1\" class=\"dataframe\">\n",
       "  <thead>\n",
       "    <tr style=\"text-align: right;\">\n",
       "      <th></th>\n",
       "      <th>precision</th>\n",
       "      <th>recall</th>\n",
       "      <th>f1</th>\n",
       "      <th>roc_auc</th>\n",
       "    </tr>\n",
       "  </thead>\n",
       "  <tbody>\n",
       "    <tr>\n",
       "      <th>Метод опорных векторов</th>\n",
       "      <td>0.833333</td>\n",
       "      <td>0.769231</td>\n",
       "      <td>0.800</td>\n",
       "      <td>0.807692</td>\n",
       "    </tr>\n",
       "    <tr>\n",
       "      <th>Градиентный бустинг</th>\n",
       "      <td>0.333333</td>\n",
       "      <td>0.076923</td>\n",
       "      <td>0.125</td>\n",
       "      <td>0.461538</td>\n",
       "    </tr>\n",
       "  </tbody>\n",
       "</table>\n",
       "</div>"
      ],
      "text/plain": [
       "                        precision    recall     f1   roc_auc\n",
       "Метод опорных векторов   0.833333  0.769231  0.800  0.807692\n",
       "Градиентный бустинг      0.333333  0.076923  0.125  0.461538"
      ]
     },
     "execution_count": 174,
     "metadata": {},
     "output_type": "execute_result"
    }
   ],
   "source": [
    "pd.DataFrame(score).transpose()"
   ]
  },
  {
   "cell_type": "markdown",
   "metadata": {},
   "source": [
    "### Вывод"
   ]
  },
  {
   "cell_type": "markdown",
   "metadata": {},
   "source": [
    "На приведенном наборе данных метод опорных векторов показывает лучшие результаты, чем градиентный бустинг."
   ]
  }
 ],
 "metadata": {
  "kernelspec": {
   "display_name": "Python 3",
   "language": "python",
   "name": "python3"
  },
  "language_info": {
   "codemirror_mode": {
    "name": "ipython",
    "version": 3
   },
   "file_extension": ".py",
   "mimetype": "text/x-python",
   "name": "python",
   "nbconvert_exporter": "python",
   "pygments_lexer": "ipython3",
   "version": "3.12.1"
  }
 },
 "nbformat": 4,
 "nbformat_minor": 2
}
